{
 "cells": [
  {
   "cell_type": "markdown",
   "id": "45f4f56f",
   "metadata": {
    "slideshow": {
     "slide_type": "slide"
    }
   },
   "source": [
    "# Simple slideshow example\n",
    "\n",
    "Quick start:\n",
    "```bash\n",
    "conda create -n slideshow -c conda-forge python=3.9 rise\n",
    "conda activate slideshow\n",
    "jupyter notebook\n",
    "# Now create slideshow.ipynb\n",
    "```\n",
    "\n",
    "In the Notebook, select `View -> Cell Toolbar -> Slideshow` to select **slide type**"
   ]
  },
  {
   "cell_type": "markdown",
   "id": "c21ec4a6",
   "metadata": {
    "slideshow": {
     "slide_type": "fragment"
    }
   },
   "source": [
    "This is a **Fragment** slide type"
   ]
  },
  {
   "cell_type": "markdown",
   "id": "987c091f",
   "metadata": {
    "slideshow": {
     "slide_type": "fragment"
    }
   },
   "source": [
    "**Fragments** get revealed **one-by-one**"
   ]
  },
  {
   "cell_type": "markdown",
   "id": "fc09194a",
   "metadata": {
    "slideshow": {
     "slide_type": "subslide"
    }
   },
   "source": [
    "## This is a **sub-slide**"
   ]
  },
  {
   "cell_type": "code",
   "execution_count": 1,
   "id": "d18ad3ae",
   "metadata": {},
   "outputs": [
    {
     "data": {
      "text/plain": [
       "3"
      ]
     },
     "execution_count": 1,
     "metadata": {},
     "output_type": "execute_result"
    }
   ],
   "source": [
    "1 + 2  # show multiple cells in a slide by not choosing a slide type"
   ]
  },
  {
   "cell_type": "code",
   "execution_count": 2,
   "id": "c12efc6e",
   "metadata": {},
   "outputs": [
    {
     "name": "stdout",
     "output_type": "stream",
     "text": [
      "So simple.  What else?\n"
     ]
    }
   ],
   "source": [
    "print('So simple.  What else?')"
   ]
  },
  {
   "cell_type": "markdown",
   "id": "6263ac50",
   "metadata": {
    "slideshow": {
     "slide_type": "slide"
    }
   },
   "source": [
    "# Lots of tricks and customization is available"
   ]
  },
  {
   "cell_type": "markdown",
   "id": "a2c016cd",
   "metadata": {
    "slideshow": {
     "slide_type": "subslide"
    }
   },
   "source": [
    "# A useful trick is hiding the output of a cell"
   ]
  },
  {
   "cell_type": "code",
   "execution_count": 3,
   "id": "b1f8cdbd",
   "metadata": {
    "tags": [
     "remove_input"
    ]
   },
   "outputs": [
    {
     "name": "stdout",
     "output_type": "stream",
     "text": [
      "This is output, but where's the input?\n"
     ]
    }
   ],
   "source": [
    "print(\"This is output, but where's the input?\")"
   ]
  },
  {
   "cell_type": "markdown",
   "id": "38f46a58",
   "metadata": {
    "slideshow": {
     "slide_type": "fragment"
    }
   },
   "source": [
    "- Select `View -> Cell Toolbar -> Tags`\n",
    "- Add the tag `\"remove_input\"` to a cell to hide its input"
   ]
  },
  {
   "cell_type": "markdown",
   "id": "bcf755fa",
   "metadata": {
    "slideshow": {
     "slide_type": "subslide"
    }
   },
   "source": [
    "# This text is not centered vertically\n",
    "\n",
    "## Can you guess how?"
   ]
  },
  {
   "cell_type": "code",
   "execution_count": 4,
   "id": "553618b8",
   "metadata": {
    "tags": [
     "remove_input"
    ]
   },
   "outputs": [
    {
     "name": "stdout",
     "output_type": "stream",
     "text": [
      "\n",
      "\n",
      "\n",
      "\n",
      "\n",
      "\n",
      "\n",
      "\n",
      "\n",
      "\n",
      "\n",
      "\n",
      "\n",
      "\n",
      "\n",
      "\n",
      "\n",
      "\n",
      "\n",
      "\n",
      "\n"
     ]
    }
   ],
   "source": [
    "print(20*\"\\n\")"
   ]
  },
  {
   "cell_type": "markdown",
   "id": "c69420d4",
   "metadata": {
    "slideshow": {
     "slide_type": "slide"
    }
   },
   "source": [
    "# Convert `slideshow.ipynb` to static html file\n",
    "\n",
    "```bash\n",
    "jupyter nbconvert slideshow.ipynb --TagRemovePreprocessor.remove_input_tags remove_input --to slides --stdout > index.html\n",
    "```"
   ]
  },
  {
   "cell_type": "markdown",
   "id": "87010a19",
   "metadata": {
    "slideshow": {
     "slide_type": "subslide"
    }
   },
   "source": [
    "# And push and publish to github\n",
    "\n",
    "Create new git repo with\n",
    "```bash\n",
    "git init\n",
    "git checkout -b gh-pages\n",
    "git add index.html\n",
    "git commit\n",
    "```\n",
    "\n",
    "And now push to Github\n",
    "```bash\n",
    "git remote add origin git@github.com:YOUR_USER_NAME/YOUR_REPO_NAME.git\n",
    "git branch -M gh-pages\n",
    "git push -u origin gh-pages\n",
    "```"
   ]
  },
  {
   "cell_type": "code",
   "execution_count": null,
   "id": "b266445e",
   "metadata": {},
   "outputs": [],
   "source": []
  }
 ],
 "metadata": {
  "celltoolbar": "Slideshow",
  "kernelspec": {
   "display_name": "Python 3 (ipykernel)",
   "language": "python",
   "name": "python3"
  },
  "language_info": {
   "codemirror_mode": {
    "name": "ipython",
    "version": 3
   },
   "file_extension": ".py",
   "mimetype": "text/x-python",
   "name": "python",
   "nbconvert_exporter": "python",
   "pygments_lexer": "ipython3",
   "version": "3.9.6"
  }
 },
 "nbformat": 4,
 "nbformat_minor": 5
}
